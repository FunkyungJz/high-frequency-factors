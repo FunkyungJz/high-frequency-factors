{
 "cells": [
  {
   "cell_type": "markdown",
   "metadata": {},
   "source": [
    "自动更新类和函数中的代码更新，便于调试"
   ]
  },
  {
   "cell_type": "code",
   "execution_count": 1,
   "metadata": {},
   "outputs": [],
   "source": [
    "%load_ext autoreload\n",
    "%autoreload 2"
   ]
  },
  {
   "cell_type": "markdown",
   "metadata": {},
   "source": [
    "导入类和函数"
   ]
  },
  {
   "cell_type": "code",
   "execution_count": 2,
   "metadata": {},
   "outputs": [],
   "source": [
    "from functions import *"
   ]
  },
  {
   "cell_type": "markdown",
   "metadata": {},
   "source": [
    "创建因子生成器的实例 factor_calculator"
   ]
  },
  {
   "cell_type": "code",
   "execution_count": 3,
   "metadata": {},
   "outputs": [],
   "source": [
    "factor_calculator = FactorCalculator(\n",
    "    order_path=\"./data/order_stkhf202101_000001sz.csv\",\n",
    "    trade_path=\"./data/trade_stkhf202101_000001sz.csv\",\n",
    "    factors_index_path=\"./factors/factors_index.csv\",\n",
    ")"
   ]
  },
  {
   "cell_type": "markdown",
   "metadata": {},
   "source": [
    "计算所有因子，并分别导出为 csv 文件"
   ]
  },
  {
   "cell_type": "code",
   "execution_count": 4,
   "metadata": {},
   "outputs": [
    {
     "name": "stderr",
     "output_type": "stream",
     "text": [
      "100%|██████████| 39/39 [00:12<00:00,  3.05it/s]\n"
     ]
    }
   ],
   "source": [
    "# 初始化所有因子\n",
    "factors = None\n",
    "# 逐个计算因子，并保存到本地文件，同时将所有因子合并到 factors 这个 DataFrame 中\n",
    "for i in tqdm(range(1, 39 + 1)):\n",
    "    # 由于中国股市没有 fill and kill 数据，因此跳过 A9\n",
    "    if i == 9:\n",
    "        continue\n",
    "    Ai = eval(\"factor_calculator.calculate_A\" + str(i))()\n",
    "    # 保存单个因子到本地文件\n",
    "    Ai.to_csv(\"./factors/A\" + str(i) + \".csv\", index=False)\n",
    "    # 将单个因子添加到所有因子中\n",
    "    if factors is None:\n",
    "        factors = Ai\n",
    "    else:\n",
    "        factors[\"A\" + str(i)] = Ai[\"A\" + str(i)]"
   ]
  },
  {
   "cell_type": "markdown",
   "metadata": {},
   "source": [
    "将所有因子导出为一个 csv 文件"
   ]
  },
  {
   "cell_type": "code",
   "execution_count": 5,
   "metadata": {},
   "outputs": [],
   "source": [
    "# 将所有因子的 index 转换为 datetime 类型\n",
    "factors.index = pd.to_datetime(\n",
    "    factors[\"info_date_ymd\"].astype(str) + \" \" + factors[\"info_time_hms\"].astype(str),\n",
    "    format=\"%Y%m%d %H%M%S\",\n",
    ")\n",
    "# 保留 9:30-11:30, 13:00-15:00 的数据，即删除 9:15-9:25 的数据\n",
    "idx1 = factors.index.indexer_between_time(\"9:30\", \"11:30\")\n",
    "idx2 = factors.index.indexer_between_time(\"13:00\", \"15:00\")\n",
    "factors = factors.iloc[np.union1d(idx1, idx2)]\n",
    "# 重置索引\n",
    "factors = factors.reset_index(drop=True)\n",
    "# 将所有因子保存到本地文件\n",
    "factors.to_csv(\"./factors/all_factors.csv\", index=False)"
   ]
  }
 ],
 "metadata": {
  "kernelspec": {
   "display_name": "Python 3 (ipykernel)",
   "language": "python",
   "name": "python3"
  },
  "language_info": {
   "codemirror_mode": {
    "name": "ipython",
    "version": 3
   },
   "file_extension": ".py",
   "mimetype": "text/x-python",
   "name": "python",
   "nbconvert_exporter": "python",
   "pygments_lexer": "ipython3",
   "version": "3.8.16"
  },
  "vscode": {
   "interpreter": {
    "hash": "ffc7ef5ae053d015ffe164f7150f3a1a8fde33166f424339844d04d1eaa43069"
   }
  }
 },
 "nbformat": 4,
 "nbformat_minor": 2
}
